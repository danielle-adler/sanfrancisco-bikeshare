{
 "cells": [
  {
   "cell_type": "markdown",
   "metadata": {},
   "source": [
    "## Danielle Adler's Homework Assignment 4"
   ]
  },
  {
   "cell_type": "code",
   "execution_count": 1,
   "metadata": {},
   "outputs": [],
   "source": [
    "import pandas as pd\n",
    "import matplotlib.pyplot as plt\n",
    "%matplotlib inline"
   ]
  },
  {
   "cell_type": "markdown",
   "metadata": {},
   "source": [
    "Datasource: https://cloud.google.com/bigquery/public-data/bay-bike-share\n",
    "\n",
    "Ford GoBike Company Website: https://www.fordgobike.com/"
   ]
  },
  {
   "cell_type": "markdown",
   "metadata": {},
   "source": [
    "## Commuting Information\n",
    "#### What are the 5 most popular trips that you would call \"commuter trips\"?"
   ]
  },
  {
   "cell_type": "markdown",
   "metadata": {},
   "source": [
    "### Investigating Commuting Times"
   ]
  },
  {
   "cell_type": "markdown",
   "metadata": {},
   "source": [
    "The first question I chose to tackle around commuting vs. subscriber information was commuting. In order to understand commuting information, I had to first parse out the specific weekday commuting times. I defined a commute as starting at one station and ending at another. For the morning, I looked at each fifteen minute time slot between 7:00am and 10:30am, figuring that the top commuting times for San Francisco's bikeshare would fall within that time range. Note that while the columns say the timing is in UTC, it happens to actually be in PST (the timezone of San Francisco)."
   ]
  },
  {
   "cell_type": "code",
   "execution_count": 2,
   "metadata": {},
   "outputs": [
    {
     "name": "stdout",
     "output_type": "stream",
     "text": [
      "Waiting on bqjob_r36c63c38afe38eb8_00000163ce3faeda_1 ... (4s) Current status: DONE   "
     ]
    }
   ],
   "source": [
    "! bq query --use_legacy_sql=FALSE --format=csv 'SELECT CASE WHEN (TIME(start_date)) >= \"7:00:00\" and (TIME(start_date)) < \"7:15:00\" THEN \"7-7:15\" WHEN (TIME(start_date)) >= \"7:15:00\" and (TIME(start_date)) < \"7:30:00\" THEN \"7:15-7:30\" WHEN (TIME(start_date)) >= \"7:30:00\" and (TIME(start_date)) < \"7:45:00\" THEN \"7:30-7:45\" WHEN (TIME(start_date)) >= \"7:45:00\" and (TIME(start_date)) < \"8:00:00\" THEN \"7:45-8\" WHEN (TIME(start_date)) >= \"8:00:00\" and (TIME(start_date)) < \"8:15:00\" THEN \"8-8:15\" WHEN (TIME(start_date)) >= \"8:15:00\" and (TIME(start_date)) < \"8:30:00\" THEN \"8:15-8:30\" WHEN (TIME(start_date)) >= \"8:30:00\" and (TIME(start_date)) < \"8:45:00\" THEN \"8:30-8:45\" WHEN (TIME(start_date)) >= \"8:45:00\" and (TIME(start_date)) < \"9:00:00\" THEN \"8:45-9\" WHEN (TIME(start_date)) >= \"9:00:00\" and (TIME(start_date)) < \"9:15:00\" THEN \"9-9:15\" WHEN (TIME(start_date)) >= \"9:15:00\" and (TIME(start_date)) < \"9:30:00\" THEN \"9:15-9:30\" WHEN (TIME(start_date)) >= \"9:30:00\" and (TIME(start_date)) < \"9:45:00\" THEN \"9:30-9:45\" WHEN (TIME(start_date)) >= \"9:45:00\" and (TIME(start_date)) < \"10:00:00\" THEN \"9:45 - 10\" WHEN (TIME(start_date)) >= \"10:00:00\" and (TIME(start_date)) < \"10:15:00\" THEN \"10-10:15\" WHEN (TIME(start_date)) >= \"10:15:00\" and (TIME(start_date)) < \"10:30:00\" THEN \"10:15-10:30\" ELSE NULL END as start_times, count(distinct trip_id) as num_of_trips FROM `bigquery-public-data.san_francisco.bikeshare_trips` where start_station_id != end_station_id and TIME(start_date) >= \"7:00:00\" and (TIME(start_date)) < \"10:30:00\" and extract(dayofweek from start_date) in (2,3,4,5,6) group by 1 order by 2 desc' > morning_commute.csv\n"
   ]
  },
  {
   "cell_type": "code",
   "execution_count": 3,
   "metadata": {},
   "outputs": [],
   "source": [
    "morning_commute=pd.read_csv('morning_commute.csv')"
   ]
  },
  {
   "cell_type": "code",
   "execution_count": 4,
   "metadata": {
    "scrolled": true
   },
   "outputs": [
    {
     "data": {
      "text/plain": [
       "<matplotlib.axes._subplots.AxesSubplot at 0x7f548affae48>"
      ]
     },
     "execution_count": 4,
     "metadata": {},
     "output_type": "execute_result"
    },
    {
     "data": {
      "image/png": "[encoded data removed]",
      "text/plain": [
       "<matplotlib.figure.Figure at 0x7f548affa6a0>"
      ]
     },
     "metadata": {},
     "output_type": "display_data"
    }
   ],
   "source": [
    "mc_bar = morning_commute.plot(x='start_times', y='num_of_trips', kind='bar', title =\"Weekday Morning Commuting Times\", figsize=(8, 6), legend=True, fontsize=12)\n",
    "\n",
    "mc_bar.set_xlabel(\"Time of Day\", fontsize=12)\n",
    "mc_bar.set_ylabel(\"Num Of Trips\", fontsize=12)\n",
    "\n",
    "mc_bar"
   ]
  },
  {
   "cell_type": "markdown",
   "metadata": {},
   "source": [
    "From the bar graph above that shows the number of trips within each fifteen minute interval, the top 5 fifteen minutes blocks of bike trips beginning fell between 8:00am - 9:15am. Therefore, I am making an assumption based on this data for the analysis below that the top commuting trips fall between 8:00am - 9:15am. Before and after these times, ridership still remains strong, but is not quite as high."
   ]
  },
  {
   "cell_type": "markdown",
   "metadata": {},
   "source": [
    "Next, I will compute the same type of analysis to identify the top commuting times for the evening bike trips. Here, I am looking at each fiften minute interval from 3:45pm through 7:15, assuming that the top evening commuting times were likely to fall within that range."
   ]
  },
  {
   "cell_type": "code",
   "execution_count": 5,
   "metadata": {},
   "outputs": [
    {
     "name": "stdout",
     "output_type": "stream",
     "text": [
      "Waiting on bqjob_r228de3798aef9dc7_00000163ce3fd124_1 ... (3s) Current status: DONE   "
     ]
    }
   ],
   "source": [
    "! bq query --use_legacy_sql=FALSE --format=csv 'SELECT CASE WHEN (TIME(start_date)) >= \"15:45:00\" and (TIME(start_date)) < \"16:00:00\" THEN \"3:45-4\" WHEN (TIME(start_date)) >= \"16:00:00\" and (TIME(start_date)) < \"16:15:00\" THEN \"4-4:15\" WHEN (TIME(start_date)) >= \"16:15:00\" and (TIME(start_date)) < \"16:30:00\" THEN \"4:15-4:30\" WHEN (TIME(start_date)) >= \"16:30:00\" and (TIME(start_date)) < \"16:45:00\" THEN \"4:30-4:45\" WHEN (TIME(start_date)) >= \"16:45:00\" and (TIME(start_date)) < \"17:00:00\" THEN \"4:45-5\" WHEN (TIME(start_date)) >= \"17:00:00\" and (TIME(start_date)) < \"17:15:00\" THEN \"5-5:15\" WHEN (TIME(start_date)) >= \"17:15:00\" and (TIME(start_date)) < \"17:30:00\" THEN \"5:15-5:30\" WHEN (TIME(start_date)) >= \"17:30:00\" and (TIME(start_date)) < \"17:45:00\" THEN \"5:30-5:45\" WHEN (TIME(start_date)) >= \"17:45:00\" and (TIME(start_date)) < \"18:00:00\" THEN \"5:45-6\" WHEN (TIME(start_date)) >= \"18:00:00\" and (TIME(start_date)) < \"18:15:00\" THEN \"6-6:15\" WHEN (TIME(start_date)) >= \"18:15:00\" and (TIME(start_date)) < \"18:30:00\" THEN \"6:15-6:30\" WHEN (TIME(start_date)) >= \"18:30:00\" and (TIME(start_date)) < \"18:45:00\" THEN \"6:30-6:45\" WHEN (TIME(start_date)) >= \"18:45:00\" and (TIME(start_date)) < \"19:00:00\" THEN \"6:45-7\" WHEN (TIME(start_date)) >= \"19:00:00\" and (TIME(start_date)) < \"19:15:00\" THEN \"7-7:15\" ELSE NULL END as start_times, count(distinct trip_id) as num_of_trips FROM `bigquery-public-data.san_francisco.bikeshare_trips` where start_station_id != end_station_id and TIME(start_date) >= \"15:45:00\" and (TIME(start_date)) < \"19:15:00\" and extract(dayofweek from start_date) in (2,3,4,5,6) group by 1 order by 2 desc' > evening_commute.csv\n"
   ]
  },
  {
   "cell_type": "code",
   "execution_count": 6,
   "metadata": {},
   "outputs": [],
   "source": [
    "evening_commute=pd.read_csv('evening_commute.csv')"
   ]
  },
  {
   "cell_type": "code",
   "execution_count": 7,
   "metadata": {},
   "outputs": [
    {
     "data": {
      "text/plain": [
       "<matplotlib.axes._subplots.AxesSubplot at 0x7f548afe0080>"
      ]
     },
     "execution_count": 7,
     "metadata": {},
     "output_type": "execute_result"
    },
    {
     "data": {
      "image/png": "[encoded data removed]",
      "text/plain": [
       "<matplotlib.figure.Figure at 0x7f548b02d780>"
      ]
     },
     "metadata": {},
     "output_type": "display_data"
    }
   ],
   "source": [
    "ec_bar = evening_commute.plot(x='start_times', y='num_of_trips', kind='bar', title =\"Weekday Evening Commuting Times\", figsize=(8, 6), legend=True, fontsize=12)\n",
    "\n",
    "ec_bar.set_xlabel(\"Time of Day\", fontsize=12)\n",
    "ec_bar.set_ylabel(\"Num Of Trips\", fontsize=12)\n",
    "\n",
    "ec_bar"
   ]
  },
  {
   "cell_type": "markdown",
   "metadata": {},
   "source": [
    "From the bar graph above, we can see that the most common evening commuting starting times for bikeshare is between 5:00pm - 5:15pm, with many others falling between 4:45pm - 6:15pm. However, if I used an hour and a half here as opposed to an hour and fifteen minutes, I would not be congruent with the morning commuting times. If I were not consistent, I would not be able to accurately evaluate the top 5 commuting trips. As 4:45pm - 5:00pm, and 5:15pm - 5:30pm are so close together, I decided to just make the range 5:00pm - 6:15pm."
   ]
  },
  {
   "cell_type": "markdown",
   "metadata": {},
   "source": [
    "### Investigating Commuting Stations"
   ]
  },
  {
   "cell_type": "markdown",
   "metadata": {},
   "source": [
    "Next, I wanted to look at the top starting and ending stations for the morning commute. I chose to evaluate all stations by their station id as the names for each station were often spelled differently in different instances."
   ]
  },
  {
   "cell_type": "code",
   "execution_count": 8,
   "metadata": {},
   "outputs": [
    {
     "name": "stdout",
     "output_type": "stream",
     "text": [
      "Waiting on bqjob_r4df6e0bf7e28d52d_00000163ce3fef22_1 ... (2s) Current status: DONE   "
     ]
    }
   ],
   "source": [
    "! bq query --use_legacy_sql=FALSE --format=csv 'SELECT start_station_id, end_station_id, bs.landmark as starting_city, bst.landmark as ending_city, count(distinct trip_id) as morning_commute_num_of_trips FROM `bigquery-public-data.san_francisco.bikeshare_trips` bt left join `bigquery-public-data.san_francisco.bikeshare_stations` bs on bs.station_id = bt.start_station_id left join `bigquery-public-data.san_francisco.bikeshare_stations` bst on bst.station_id = bt.end_station_id where start_station_id != end_station_id and TIME(start_date) >= \"08:00:00\" and (TIME(start_date)) < \"9:15:00\" and extract(dayofweek from start_date) in (2,3,4,5,6) group by 1,2,3,4 order by 5 desc' > morning_stations.csv"
   ]
  },
  {
   "cell_type": "code",
   "execution_count": 10,
   "metadata": {
    "scrolled": false
   },
   "outputs": [
    {
     "name": "stdout",
     "output_type": "stream",
     "text": [
      "Morning Commute Trips\n"
     ]
    },
    {
     "data": {
      "text/html": [
       "<div>\n",
       "<style>\n",
       "    .dataframe thead tr:only-child th {\n",
       "        text-align: right;\n",
       "    }\n",
       "\n",
       "    .dataframe thead th {\n",
       "        text-align: left;\n",
       "    }\n",
       "\n",
       "    .dataframe tbody tr th {\n",
       "        vertical-align: top;\n",
       "    }\n",
       "</style>\n",
       "<table border=\"1\" class=\"dataframe\">\n",
       "  <thead>\n",
       "    <tr style=\"text-align: right;\">\n",
       "      <th></th>\n",
       "      <th>start_station_id</th>\n",
       "      <th>end_station_id</th>\n",
       "      <th>starting_city</th>\n",
       "      <th>ending_city</th>\n",
       "      <th>morning_commute_num_of_trips</th>\n",
       "    </tr>\n",
       "  </thead>\n",
       "  <tbody>\n",
       "    <tr>\n",
       "      <th>0</th>\n",
       "      <td>50</td>\n",
       "      <td>61</td>\n",
       "      <td>San Francisco</td>\n",
       "      <td>San Francisco</td>\n",
       "      <td>3245</td>\n",
       "    </tr>\n",
       "    <tr>\n",
       "      <th>1</th>\n",
       "      <td>69</td>\n",
       "      <td>65</td>\n",
       "      <td>San Francisco</td>\n",
       "      <td>San Francisco</td>\n",
       "      <td>2203</td>\n",
       "    </tr>\n",
       "    <tr>\n",
       "      <th>2</th>\n",
       "      <td>74</td>\n",
       "      <td>61</td>\n",
       "      <td>San Francisco</td>\n",
       "      <td>San Francisco</td>\n",
       "      <td>2137</td>\n",
       "    </tr>\n",
       "    <tr>\n",
       "      <th>3</th>\n",
       "      <td>74</td>\n",
       "      <td>60</td>\n",
       "      <td>San Francisco</td>\n",
       "      <td>San Francisco</td>\n",
       "      <td>1847</td>\n",
       "    </tr>\n",
       "    <tr>\n",
       "      <th>4</th>\n",
       "      <td>70</td>\n",
       "      <td>51</td>\n",
       "      <td>San Francisco</td>\n",
       "      <td>San Francisco</td>\n",
       "      <td>1833</td>\n",
       "    </tr>\n",
       "    <tr>\n",
       "      <th>5</th>\n",
       "      <td>50</td>\n",
       "      <td>60</td>\n",
       "      <td>San Francisco</td>\n",
       "      <td>San Francisco</td>\n",
       "      <td>1823</td>\n",
       "    </tr>\n",
       "    <tr>\n",
       "      <th>6</th>\n",
       "      <td>77</td>\n",
       "      <td>64</td>\n",
       "      <td>San Francisco</td>\n",
       "      <td>San Francisco</td>\n",
       "      <td>1801</td>\n",
       "    </tr>\n",
       "    <tr>\n",
       "      <th>7</th>\n",
       "      <td>70</td>\n",
       "      <td>63</td>\n",
       "      <td>San Francisco</td>\n",
       "      <td>San Francisco</td>\n",
       "      <td>1747</td>\n",
       "    </tr>\n",
       "    <tr>\n",
       "      <th>8</th>\n",
       "      <td>70</td>\n",
       "      <td>50</td>\n",
       "      <td>San Francisco</td>\n",
       "      <td>San Francisco</td>\n",
       "      <td>1663</td>\n",
       "    </tr>\n",
       "    <tr>\n",
       "      <th>9</th>\n",
       "      <td>70</td>\n",
       "      <td>74</td>\n",
       "      <td>San Francisco</td>\n",
       "      <td>San Francisco</td>\n",
       "      <td>1621</td>\n",
       "    </tr>\n",
       "  </tbody>\n",
       "</table>\n",
       "</div>"
      ],
      "text/plain": [
       "   start_station_id  end_station_id  starting_city    ending_city  \\\n",
       "0                50              61  San Francisco  San Francisco   \n",
       "1                69              65  San Francisco  San Francisco   \n",
       "2                74              61  San Francisco  San Francisco   \n",
       "3                74              60  San Francisco  San Francisco   \n",
       "4                70              51  San Francisco  San Francisco   \n",
       "5                50              60  San Francisco  San Francisco   \n",
       "6                77              64  San Francisco  San Francisco   \n",
       "7                70              63  San Francisco  San Francisco   \n",
       "8                70              50  San Francisco  San Francisco   \n",
       "9                70              74  San Francisco  San Francisco   \n",
       "\n",
       "   morning_commute_num_of_trips  \n",
       "0                          3245  \n",
       "1                          2203  \n",
       "2                          2137  \n",
       "3                          1847  \n",
       "4                          1833  \n",
       "5                          1823  \n",
       "6                          1801  \n",
       "7                          1747  \n",
       "8                          1663  \n",
       "9                          1621  "
      ]
     },
     "execution_count": 10,
     "metadata": {},
     "output_type": "execute_result"
    }
   ],
   "source": [
    "morning_stations=pd.read_csv('morning_stations.csv')\n",
    "\n",
    "print(\"Morning Commute Trips\")\n",
    "morning_stations.head(10)"
   ]
  },
  {
   "cell_type": "code",
   "execution_count": null,
   "metadata": {},
   "outputs": [],
   "source": [
    "! bq query --use_legacy_sql=FALSE --format=csv 'SELECT start_station_id, end_station_id, bs.landmark as starting_city, bst.landmark as ending_city, count(distinct trip_id) as evening_commute_num_of_trips FROM `bigquery-public-data.san_francisco.bikeshare_trips` bt left join `bigquery-public-data.san_francisco.bikeshare_stations` bs on bs.station_id = bt.start_station_id left join `bigquery-public-data.san_francisco.bikeshare_stations` bst on bst.station_id = bt.end_station_id where start_station_id != end_station_id and TIME(start_date) >= \"17:00:00\" and (TIME(start_date)) < \"18:15:00\" and extract(dayofweek from start_date) in (2,3,4,5,6) group by 1,2,3,4 order by 5 desc' > evening_stations.csv"
   ]
  },
  {
   "cell_type": "code",
   "execution_count": 11,
   "metadata": {
    "scrolled": true
   },
   "outputs": [
    {
     "name": "stdout",
     "output_type": "stream",
     "text": [
      "Evening Commute Trips\n"
     ]
    },
    {
     "data": {
      "text/html": [
       "<div>\n",
       "<style>\n",
       "    .dataframe thead tr:only-child th {\n",
       "        text-align: right;\n",
       "    }\n",
       "\n",
       "    .dataframe thead th {\n",
       "        text-align: left;\n",
       "    }\n",
       "\n",
       "    .dataframe tbody tr th {\n",
       "        vertical-align: top;\n",
       "    }\n",
       "</style>\n",
       "<table border=\"1\" class=\"dataframe\">\n",
       "  <thead>\n",
       "    <tr style=\"text-align: right;\">\n",
       "      <th></th>\n",
       "      <th>start_station_id</th>\n",
       "      <th>end_station_id</th>\n",
       "      <th>starting_city</th>\n",
       "      <th>ending_city</th>\n",
       "      <th>evening_commute_num_of_trips</th>\n",
       "    </tr>\n",
       "  </thead>\n",
       "  <tbody>\n",
       "    <tr>\n",
       "      <th>0</th>\n",
       "      <td>61</td>\n",
       "      <td>50</td>\n",
       "      <td>San Francisco</td>\n",
       "      <td>San Francisco</td>\n",
       "      <td>2221</td>\n",
       "    </tr>\n",
       "    <tr>\n",
       "      <th>1</th>\n",
       "      <td>60</td>\n",
       "      <td>74</td>\n",
       "      <td>San Francisco</td>\n",
       "      <td>San Francisco</td>\n",
       "      <td>2181</td>\n",
       "    </tr>\n",
       "    <tr>\n",
       "      <th>2</th>\n",
       "      <td>64</td>\n",
       "      <td>77</td>\n",
       "      <td>San Francisco</td>\n",
       "      <td>San Francisco</td>\n",
       "      <td>1964</td>\n",
       "    </tr>\n",
       "    <tr>\n",
       "      <th>3</th>\n",
       "      <td>67</td>\n",
       "      <td>69</td>\n",
       "      <td>San Francisco</td>\n",
       "      <td>San Francisco</td>\n",
       "      <td>1832</td>\n",
       "    </tr>\n",
       "    <tr>\n",
       "      <th>4</th>\n",
       "      <td>51</td>\n",
       "      <td>70</td>\n",
       "      <td>San Francisco</td>\n",
       "      <td>San Francisco</td>\n",
       "      <td>1724</td>\n",
       "    </tr>\n",
       "    <tr>\n",
       "      <th>5</th>\n",
       "      <td>65</td>\n",
       "      <td>69</td>\n",
       "      <td>San Francisco</td>\n",
       "      <td>San Francisco</td>\n",
       "      <td>1709</td>\n",
       "    </tr>\n",
       "    <tr>\n",
       "      <th>6</th>\n",
       "      <td>74</td>\n",
       "      <td>70</td>\n",
       "      <td>San Francisco</td>\n",
       "      <td>San Francisco</td>\n",
       "      <td>1689</td>\n",
       "    </tr>\n",
       "    <tr>\n",
       "      <th>7</th>\n",
       "      <td>55</td>\n",
       "      <td>70</td>\n",
       "      <td>San Francisco</td>\n",
       "      <td>San Francisco</td>\n",
       "      <td>1609</td>\n",
       "    </tr>\n",
       "    <tr>\n",
       "      <th>8</th>\n",
       "      <td>61</td>\n",
       "      <td>74</td>\n",
       "      <td>San Francisco</td>\n",
       "      <td>San Francisco</td>\n",
       "      <td>1437</td>\n",
       "    </tr>\n",
       "    <tr>\n",
       "      <th>9</th>\n",
       "      <td>63</td>\n",
       "      <td>70</td>\n",
       "      <td>San Francisco</td>\n",
       "      <td>San Francisco</td>\n",
       "      <td>1359</td>\n",
       "    </tr>\n",
       "  </tbody>\n",
       "</table>\n",
       "</div>"
      ],
      "text/plain": [
       "   start_station_id  end_station_id  starting_city    ending_city  \\\n",
       "0                61              50  San Francisco  San Francisco   \n",
       "1                60              74  San Francisco  San Francisco   \n",
       "2                64              77  San Francisco  San Francisco   \n",
       "3                67              69  San Francisco  San Francisco   \n",
       "4                51              70  San Francisco  San Francisco   \n",
       "5                65              69  San Francisco  San Francisco   \n",
       "6                74              70  San Francisco  San Francisco   \n",
       "7                55              70  San Francisco  San Francisco   \n",
       "8                61              74  San Francisco  San Francisco   \n",
       "9                63              70  San Francisco  San Francisco   \n",
       "\n",
       "   evening_commute_num_of_trips  \n",
       "0                          2221  \n",
       "1                          2181  \n",
       "2                          1964  \n",
       "3                          1832  \n",
       "4                          1724  \n",
       "5                          1709  \n",
       "6                          1689  \n",
       "7                          1609  \n",
       "8                          1437  \n",
       "9                          1359  "
      ]
     },
     "execution_count": 11,
     "metadata": {},
     "output_type": "execute_result"
    }
   ],
   "source": [
    "evening_stations=pd.read_csv('evening_stations.csv')\n",
    "\n",
    "print(\"Evening Commute Trips\")\n",
    "evening_stations.head(10)"
   ]
  },
  {
   "cell_type": "markdown",
   "metadata": {},
   "source": [
    "The top 5 commuting trips could be in the morning or the evening. Therefore, I have to look at the top number of trips within both datasets together. However, if a trip happens in the morning and the evening, the trips are not added as these would still be separate commutes (i.e. from home to work or back home after work). The top 5 commuting trips are:\n",
    "- Station 50 to 61 with 3,245 trips in the morning\n",
    "- Station 61 to 50 with 2,221 trips in the evening\n",
    "- Station 69 to 65 with 2,203 trips in the morning\n",
    "- Station 60 to 74 with 2,181 trips in the evening\n",
    "- Station 74 to 61 with 2,137 trips in the evening"
   ]
  },
  {
   "cell_type": "markdown",
   "metadata": {},
   "source": [
    "## Subscriber Information\n",
    "#### What are your recommendations for offers (justify based on your findings)?"
   ]
  },
  {
   "cell_type": "markdown",
   "metadata": {},
   "source": [
    "### Reviewing Commuting Behavior"
   ]
  },
  {
   "cell_type": "markdown",
   "metadata": {},
   "source": [
    "As we see within the top commuting trips, we do have some similarities between the most common starting stations during the morning commute, and the most common ending stations in the evening commute. To understand full ridership behavior, and to begin to make our subscriber recommendations. I decided to evaluate the top morning starting stations and the top evening ending stations to see the percent of all commuting rides that fell within these stations."
   ]
  },
  {
   "cell_type": "code",
   "execution_count": 12,
   "metadata": {},
   "outputs": [
    {
     "name": "stdout",
     "output_type": "stream",
     "text": [
      "Waiting on bqjob_r2d9258c23ad276de_00000163ce4058fc_1 ... (2s) Current status: DONE   "
     ]
    }
   ],
   "source": [
    "! bq query --use_legacy_sql=FALSE --format=csv 'SELECT start_station_id, count(distinct trip_id) as morning_commute_num_of_trips FROM `bigquery-public-data.san_francisco.bikeshare_trips` where start_station_id != end_station_id and TIME(start_date) >= \"08:00:00\" and (TIME(start_date)) < \"9:15:00\" and extract(dayofweek from start_date) in (2,3,4,5,6) group by 1 order by 2 desc' > top_morning_stations.csv\n",
    "\n"
   ]
  },
  {
   "cell_type": "code",
   "execution_count": 13,
   "metadata": {},
   "outputs": [
    {
     "name": "stdout",
     "output_type": "stream",
     "text": [
      "Top Morning Starting Stations\n"
     ]
    },
    {
     "data": {
      "text/html": [
       "<div>\n",
       "<style>\n",
       "    .dataframe thead tr:only-child th {\n",
       "        text-align: right;\n",
       "    }\n",
       "\n",
       "    .dataframe thead th {\n",
       "        text-align: left;\n",
       "    }\n",
       "\n",
       "    .dataframe tbody tr th {\n",
       "        vertical-align: top;\n",
       "    }\n",
       "</style>\n",
       "<table border=\"1\" class=\"dataframe\">\n",
       "  <thead>\n",
       "    <tr style=\"text-align: right;\">\n",
       "      <th></th>\n",
       "      <th>start_station_id</th>\n",
       "      <th>morning_commute_num_of_trips</th>\n",
       "    </tr>\n",
       "  </thead>\n",
       "  <tbody>\n",
       "    <tr>\n",
       "      <th>0</th>\n",
       "      <td>70</td>\n",
       "      <td>21356</td>\n",
       "    </tr>\n",
       "    <tr>\n",
       "      <th>1</th>\n",
       "      <td>69</td>\n",
       "      <td>19592</td>\n",
       "    </tr>\n",
       "    <tr>\n",
       "      <th>2</th>\n",
       "      <td>50</td>\n",
       "      <td>13137</td>\n",
       "    </tr>\n",
       "    <tr>\n",
       "      <th>3</th>\n",
       "      <td>55</td>\n",
       "      <td>10808</td>\n",
       "    </tr>\n",
       "    <tr>\n",
       "      <th>4</th>\n",
       "      <td>74</td>\n",
       "      <td>9048</td>\n",
       "    </tr>\n",
       "  </tbody>\n",
       "</table>\n",
       "</div>"
      ],
      "text/plain": [
       "   start_station_id  morning_commute_num_of_trips\n",
       "0                70                         21356\n",
       "1                69                         19592\n",
       "2                50                         13137\n",
       "3                55                         10808\n",
       "4                74                          9048"
      ]
     },
     "execution_count": 13,
     "metadata": {},
     "output_type": "execute_result"
    }
   ],
   "source": [
    "top_morning_stations=pd.read_csv('top_morning_stations.csv')\n",
    "\n",
    "print(\"Top Morning Starting Stations\")\n",
    "top_morning_stations.head()"
   ]
  },
  {
   "cell_type": "code",
   "execution_count": 19,
   "metadata": {
    "scrolled": true
   },
   "outputs": [
    {
     "name": "stdout",
     "output_type": "stream",
     "text": [
      "\r",
      "Waiting on bqjob_r5a213213fbcece13_00000163c8c36f77_1 ... (0s) Current status: DONE   "
     ]
    }
   ],
   "source": [
    "! bq query --use_legacy_sql=FALSE --format=csv 'SELECT end_station_id, count(distinct trip_id) as evening_commute_num_of_trips FROM `bigquery-public-data.san_francisco.bikeshare_trips` where start_station_id != end_station_id and TIME(start_date) >= \"17:00:00\" and (TIME(start_date)) < \"18:15:00\" and extract(dayofweek from start_date) in (2,3,4,5,6) group by 1 order by 2 desc' > top_evening_stations.csv\n"
   ]
  },
  {
   "cell_type": "code",
   "execution_count": 14,
   "metadata": {},
   "outputs": [
    {
     "name": "stdout",
     "output_type": "stream",
     "text": [
      "Top Evening Ending Stations\n"
     ]
    },
    {
     "data": {
      "text/html": [
       "<div>\n",
       "<style>\n",
       "    .dataframe thead tr:only-child th {\n",
       "        text-align: right;\n",
       "    }\n",
       "\n",
       "    .dataframe thead th {\n",
       "        text-align: left;\n",
       "    }\n",
       "\n",
       "    .dataframe tbody tr th {\n",
       "        vertical-align: top;\n",
       "    }\n",
       "</style>\n",
       "<table border=\"1\" class=\"dataframe\">\n",
       "  <thead>\n",
       "    <tr style=\"text-align: right;\">\n",
       "      <th></th>\n",
       "      <th>end_station_id</th>\n",
       "      <th>evening_commute_num_of_trips</th>\n",
       "    </tr>\n",
       "  </thead>\n",
       "  <tbody>\n",
       "    <tr>\n",
       "      <th>0</th>\n",
       "      <td>70</td>\n",
       "      <td>21548</td>\n",
       "    </tr>\n",
       "    <tr>\n",
       "      <th>1</th>\n",
       "      <td>69</td>\n",
       "      <td>18912</td>\n",
       "    </tr>\n",
       "    <tr>\n",
       "      <th>2</th>\n",
       "      <td>74</td>\n",
       "      <td>9100</td>\n",
       "    </tr>\n",
       "    <tr>\n",
       "      <th>3</th>\n",
       "      <td>50</td>\n",
       "      <td>8983</td>\n",
       "    </tr>\n",
       "    <tr>\n",
       "      <th>4</th>\n",
       "      <td>55</td>\n",
       "      <td>8276</td>\n",
       "    </tr>\n",
       "  </tbody>\n",
       "</table>\n",
       "</div>"
      ],
      "text/plain": [
       "   end_station_id  evening_commute_num_of_trips\n",
       "0              70                         21548\n",
       "1              69                         18912\n",
       "2              74                          9100\n",
       "3              50                          8983\n",
       "4              55                          8276"
      ]
     },
     "execution_count": 14,
     "metadata": {},
     "output_type": "execute_result"
    }
   ],
   "source": [
    "top_evening_stations=pd.read_csv('top_evening_stations.csv')\n",
    "\n",
    "print(\"Top Evening Ending Stations\")\n",
    "top_evening_stations.head()"
   ]
  },
  {
   "cell_type": "code",
   "execution_count": 40,
   "metadata": {
    "scrolled": true
   },
   "outputs": [
    {
     "name": "stdout",
     "output_type": "stream",
     "text": [
      "The top 5 morning commute starting stations are the same as the top 5 evening commute ending stations. These stations make up 46.4% of the starting station rides during the morning commute and 46.5% of the ending station rides during the evening commute. This shows that almost half of riders are beginning their trips in the morning and ending in the evening at the same place. Therefore, I am going to make the assumption that somewhere between 40% and 50% of bikeshare users ride almost daily to and from work. In order to increase subscribership, I would also encourage Ford GoBike to market towards prospects near these top stations.\n"
     ]
    }
   ],
   "source": [
    "top_morning = top_morning_stations.morning_commute_num_of_trips[(top_morning_stations.start_station_id == 70)\n",
    "                                                | (top_morning_stations.start_station_id == 69)\n",
    "                                                 | (top_morning_stations.start_station_id == 50)\n",
    "                                                 | (top_morning_stations.start_station_id == 55)\n",
    "                                                 | (top_morning_stations.start_station_id == 74)].sum() \n",
    "\n",
    "all_morning = top_morning_stations.morning_commute_num_of_trips.sum()\n",
    "\n",
    "\n",
    "top_evening = top_evening_stations.evening_commute_num_of_trips[(top_evening_stations.end_station_id == 70)\n",
    "                                                | (top_evening_stations.end_station_id == 69)\n",
    "                                                 | (top_evening_stations.end_station_id == 50)\n",
    "                                                 | (top_evening_stations.end_station_id == 55)\n",
    "                                                 | (top_evening_stations.end_station_id == 74)].sum() \n",
    "\n",
    "all_evening = top_evening_stations.evening_commute_num_of_trips.sum()\n",
    "\n",
    "print(\"The top 5 morning commute starting stations are the same as the top 5 evening commute ending stations. These stations make up \"\n",
    "      , round(top_morning / all_morning * 100,1),\"% of the starting station rides during the morning commute and \"\n",
    "      , round(top_evening / all_evening * 100,1), \"% of the ending station rides during the evening commute. This shows that almost half of riders\",\n",
    "      \" are beginning their trips in the morning and ending in the evening at the same place. Therefore, I am going to make the assumption that somewhere between 40% and 50% of bikeshare users ride almost daily to and from work. In order to increase subscribership, I would also encourage Ford GoBike to market towards prospects near these top stations.\" ,sep=\"\")"
   ]
  },
  {
   "cell_type": "markdown",
   "metadata": {},
   "source": [
    "### Subscriber vs. Customer Trips Overtime"
   ]
  },
  {
   "cell_type": "markdown",
   "metadata": {},
   "source": [
    "After understanding the initials of subscriber behavior, I decided we had to evaluate changes overtime, and make some sanity checks on the data. I wanted to review subscriber type data for each weekday for all weeks of data within our dataset. The query and initial chart are below."
   ]
  },
  {
   "cell_type": "code",
   "execution_count": 16,
   "metadata": {},
   "outputs": [
    {
     "name": "stdout",
     "output_type": "stream",
     "text": [
      "Waiting on bqjob_r24c68611373363d3_00000163ce40f09d_1 ... (15s) Current status: DONE   "
     ]
    }
   ],
   "source": [
    "! bq query --use_legacy_sql=FALSE --max_rows=1000 --format=csv 'with subscriber_table as (SELECT EXTRACT(week from start_date) as week_num, EXTRACT(year from start_date) as year_num, COUNT(DISTINCT trip_id) as subscriber_trips FROM `bigquery-public-data.san_francisco.bikeshare_trips` where subscriber_type = \"Subscriber\" and extract(dayofweek from start_date) in (2,3,4,5,6) GROUP BY 1,2 ORDER BY 1), customer_table as (SELECT EXTRACT(week from start_date) as week_num, EXTRACT(year from start_date) as year_num, COUNT(DISTINCT trip_id) as customer_trips FROM `bigquery-public-data.san_francisco.bikeshare_trips` where subscriber_type = \"Customer\" and extract(dayofweek from start_date) in (2,3,4,5,6) GROUP BY 1,2 ORDER BY 1) SELECT EXTRACT(year from start_date) as year_num, EXTRACT(week from start_date) as week_num, st.subscriber_trips, ct.customer_trips, COUNT(DISTINCT trip_id) as total_trips FROM `bigquery-public-data.san_francisco.bikeshare_trips` bt LEFT JOIN subscriber_table st on st.week_num = EXTRACT(week from bt.start_date) and st.year_num = EXTRACT(year from bt.start_date) LEFT JOIN customer_table ct on ct.week_num = EXTRACT(week from bt.start_date) and ct.year_num = EXTRACT(year from bt.start_date) where extract(dayofweek from start_date) in (2,3,4,5,6) GROUP BY 1,2,3,4 ORDER BY 1,2' > behavior_overtime.csv\n"
   ]
  },
  {
   "cell_type": "code",
   "execution_count": 17,
   "metadata": {
    "scrolled": true
   },
   "outputs": [
    {
     "name": "stdout",
     "output_type": "stream",
     "text": [
      "Behavior Overtime\n"
     ]
    },
    {
     "data": {
      "text/html": [
       "<div>\n",
       "<style>\n",
       "    .dataframe thead tr:only-child th {\n",
       "        text-align: right;\n",
       "    }\n",
       "\n",
       "    .dataframe thead th {\n",
       "        text-align: left;\n",
       "    }\n",
       "\n",
       "    .dataframe tbody tr th {\n",
       "        vertical-align: top;\n",
       "    }\n",
       "</style>\n",
       "<table border=\"1\" class=\"dataframe\">\n",
       "  <thead>\n",
       "    <tr style=\"text-align: right;\">\n",
       "      <th></th>\n",
       "      <th>year_num</th>\n",
       "      <th>week_num</th>\n",
       "      <th>subscriber_trips</th>\n",
       "      <th>customer_trips</th>\n",
       "      <th>total_trips</th>\n",
       "      <th>year_week</th>\n",
       "    </tr>\n",
       "  </thead>\n",
       "  <tbody>\n",
       "    <tr>\n",
       "      <th>0</th>\n",
       "      <td>2013</td>\n",
       "      <td>34</td>\n",
       "      <td>769</td>\n",
       "      <td>693</td>\n",
       "      <td>1462</td>\n",
       "      <td>2013_34</td>\n",
       "    </tr>\n",
       "    <tr>\n",
       "      <th>1</th>\n",
       "      <td>2013</td>\n",
       "      <td>35</td>\n",
       "      <td>1704</td>\n",
       "      <td>1651</td>\n",
       "      <td>3355</td>\n",
       "      <td>2013_35</td>\n",
       "    </tr>\n",
       "    <tr>\n",
       "      <th>2</th>\n",
       "      <td>2013</td>\n",
       "      <td>36</td>\n",
       "      <td>3106</td>\n",
       "      <td>1358</td>\n",
       "      <td>4464</td>\n",
       "      <td>2013_36</td>\n",
       "    </tr>\n",
       "    <tr>\n",
       "      <th>3</th>\n",
       "      <td>2013</td>\n",
       "      <td>37</td>\n",
       "      <td>3880</td>\n",
       "      <td>1363</td>\n",
       "      <td>5243</td>\n",
       "      <td>2013_37</td>\n",
       "    </tr>\n",
       "    <tr>\n",
       "      <th>4</th>\n",
       "      <td>2013</td>\n",
       "      <td>38</td>\n",
       "      <td>4228</td>\n",
       "      <td>1344</td>\n",
       "      <td>5572</td>\n",
       "      <td>2013_38</td>\n",
       "    </tr>\n",
       "  </tbody>\n",
       "</table>\n",
       "</div>"
      ],
      "text/plain": [
       "   year_num  week_num  subscriber_trips  customer_trips  total_trips year_week\n",
       "0      2013        34               769             693         1462   2013_34\n",
       "1      2013        35              1704            1651         3355   2013_35\n",
       "2      2013        36              3106            1358         4464   2013_36\n",
       "3      2013        37              3880            1363         5243   2013_37\n",
       "4      2013        38              4228            1344         5572   2013_38"
      ]
     },
     "execution_count": 17,
     "metadata": {},
     "output_type": "execute_result"
    }
   ],
   "source": [
    "behavior_overtime=pd.read_csv('behavior_overtime.csv')\n",
    "\n",
    "behavior_overtime[\"year_week\"] = behavior_overtime[\"year_num\"].apply(str) + '_' + behavior_overtime[\"week_num\"].apply(str)\n",
    "\n",
    "print(\"Behavior Overtime\")\n",
    "behavior_overtime.head()"
   ]
  },
  {
   "cell_type": "code",
   "execution_count": 39,
   "metadata": {},
   "outputs": [
    {
     "data": {
      "image/png": "[encoded data removed]",
      "text/plain": [
       "<matplotlib.figure.Figure at 0x7f5488e1cf28>"
      ]
     },
     "metadata": {},
     "output_type": "display_data"
    }
   ],
   "source": [
    "plt.plot('total_trips', data=behavior_overtime, marker='', color='orange', linewidth=6)\n",
    "plt.plot('subscriber_trips', data=behavior_overtime, marker='', color='blue', linewidth=2, linestyle = 'dashed')\n",
    "plt.plot('customer_trips', data=behavior_overtime, marker='', color='green', linewidth=2, linestyle='dashed')\n",
    "\n",
    "fig = plt.gcf()\n",
    "fig.set_size_inches(14, 8)\n",
    "\n",
    "plt.title('Number of Trips Overtime')\n",
    "plt.xlabel('Weeks in Dataset (Weekdays Only)')\n",
    "plt.ylabel('Trips per Week')\n",
    "plt.legend(loc='upper right')\n",
    "plt.show()"
   ]
  },
  {
   "cell_type": "markdown",
   "metadata": {},
   "source": [
    "The data looks fairly consistent to what I would expect from a gut check perspective. The periods of extreme decline in total ridership are the holiday time periods of each year. This holiday time period dropoff speaks to the fact again that subscribers are likely using the service for commuting. During the holiday time period, many folks are off of work and would therefore have no reason to commute. Total rides follows the trend of subscriber behavior very closely. Customer behavior is on a bit of a decline, so it makes sense that one of our initiatives is to drive up this ridership."
   ]
  },
  {
   "cell_type": "markdown",
   "metadata": {},
   "source": [
    "### Subscriber vs. Customer by Several Data Cuts"
   ]
  },
  {
   "cell_type": "markdown",
   "metadata": {},
   "source": [
    "Next, I am going to create a dataset that shows the number of trips by weekday vs. weekend, station route (round trip or riding from one station to another), and trip duration of greater than 30 minutes or less than 30 minutes. I chose 30 minutes as this amount was specifically related to one of the offers that we are investigating."
   ]
  },
  {
   "cell_type": "code",
   "execution_count": 19,
   "metadata": {},
   "outputs": [
    {
     "name": "stdout",
     "output_type": "stream",
     "text": [
      "Waiting on bqjob_r42e7d34306df1927_00000163ce42659a_1 ... (4s) Current status: DONE   "
     ]
    }
   ],
   "source": [
    "! bq query --use_legacy_sql=FALSE --format=csv 'SELECT subscriber_type, CASE WHEN extract(dayofweek from start_date) in (2,3,4,5,6) THEN \"weekday\" ELSE \"weekend\" END as Type_of_Day, CASE WHEN start_station_id = end_station_id THEN \"same station\" ELSE \"different station\" END as Station_Route, CASE WHEN duration_sec <= 1800 THEN \"less than or equal to 30 min\" ELSE \"greater than 30 min\" END as Trip_Duration, count(distinct trip_id) as num_of_trips FROM `bigquery-public-data.san_francisco.bikeshare_trips` group by 1,2,3,4 order by 1,2,3,4' > subscriber_data.csv "
   ]
  },
  {
   "cell_type": "code",
   "execution_count": 20,
   "metadata": {
    "scrolled": true
   },
   "outputs": [
    {
     "name": "stdout",
     "output_type": "stream",
     "text": [
      "Subscriber Data\n"
     ]
    },
    {
     "data": {
      "text/html": [
       "<div>\n",
       "<style>\n",
       "    .dataframe thead tr:only-child th {\n",
       "        text-align: right;\n",
       "    }\n",
       "\n",
       "    .dataframe thead th {\n",
       "        text-align: left;\n",
       "    }\n",
       "\n",
       "    .dataframe tbody tr th {\n",
       "        vertical-align: top;\n",
       "    }\n",
       "</style>\n",
       "<table border=\"1\" class=\"dataframe\">\n",
       "  <thead>\n",
       "    <tr style=\"text-align: right;\">\n",
       "      <th></th>\n",
       "      <th>subscriber_type</th>\n",
       "      <th>Type_of_Day</th>\n",
       "      <th>Station_Route</th>\n",
       "      <th>Trip_Duration</th>\n",
       "      <th>num_of_trips</th>\n",
       "    </tr>\n",
       "  </thead>\n",
       "  <tbody>\n",
       "    <tr>\n",
       "      <th>0</th>\n",
       "      <td>Customer</td>\n",
       "      <td>weekday</td>\n",
       "      <td>different station</td>\n",
       "      <td>greater than 30 min</td>\n",
       "      <td>13998</td>\n",
       "    </tr>\n",
       "    <tr>\n",
       "      <th>1</th>\n",
       "      <td>Customer</td>\n",
       "      <td>weekday</td>\n",
       "      <td>different station</td>\n",
       "      <td>less than or equal to 30 min</td>\n",
       "      <td>55890</td>\n",
       "    </tr>\n",
       "    <tr>\n",
       "      <th>2</th>\n",
       "      <td>Customer</td>\n",
       "      <td>weekday</td>\n",
       "      <td>same station</td>\n",
       "      <td>greater than 30 min</td>\n",
       "      <td>8148</td>\n",
       "    </tr>\n",
       "    <tr>\n",
       "      <th>3</th>\n",
       "      <td>Customer</td>\n",
       "      <td>weekday</td>\n",
       "      <td>same station</td>\n",
       "      <td>less than or equal to 30 min</td>\n",
       "      <td>3621</td>\n",
       "    </tr>\n",
       "    <tr>\n",
       "      <th>4</th>\n",
       "      <td>Customer</td>\n",
       "      <td>weekend</td>\n",
       "      <td>different station</td>\n",
       "      <td>greater than 30 min</td>\n",
       "      <td>12472</td>\n",
       "    </tr>\n",
       "    <tr>\n",
       "      <th>5</th>\n",
       "      <td>Customer</td>\n",
       "      <td>weekend</td>\n",
       "      <td>different station</td>\n",
       "      <td>less than or equal to 30 min</td>\n",
       "      <td>32296</td>\n",
       "    </tr>\n",
       "    <tr>\n",
       "      <th>6</th>\n",
       "      <td>Customer</td>\n",
       "      <td>weekend</td>\n",
       "      <td>same station</td>\n",
       "      <td>greater than 30 min</td>\n",
       "      <td>7395</td>\n",
       "    </tr>\n",
       "    <tr>\n",
       "      <th>7</th>\n",
       "      <td>Customer</td>\n",
       "      <td>weekend</td>\n",
       "      <td>same station</td>\n",
       "      <td>less than or equal to 30 min</td>\n",
       "      <td>2989</td>\n",
       "    </tr>\n",
       "    <tr>\n",
       "      <th>8</th>\n",
       "      <td>Subscriber</td>\n",
       "      <td>weekday</td>\n",
       "      <td>different station</td>\n",
       "      <td>greater than 30 min</td>\n",
       "      <td>3684</td>\n",
       "    </tr>\n",
       "    <tr>\n",
       "      <th>9</th>\n",
       "      <td>Subscriber</td>\n",
       "      <td>weekday</td>\n",
       "      <td>different station</td>\n",
       "      <td>less than or equal to 30 min</td>\n",
       "      <td>778649</td>\n",
       "    </tr>\n",
       "    <tr>\n",
       "      <th>10</th>\n",
       "      <td>Subscriber</td>\n",
       "      <td>weekday</td>\n",
       "      <td>same station</td>\n",
       "      <td>greater than 30 min</td>\n",
       "      <td>882</td>\n",
       "    </tr>\n",
       "    <tr>\n",
       "      <th>11</th>\n",
       "      <td>Subscriber</td>\n",
       "      <td>weekday</td>\n",
       "      <td>same station</td>\n",
       "      <td>less than or equal to 30 min</td>\n",
       "      <td>7122</td>\n",
       "    </tr>\n",
       "    <tr>\n",
       "      <th>12</th>\n",
       "      <td>Subscriber</td>\n",
       "      <td>weekend</td>\n",
       "      <td>different station</td>\n",
       "      <td>greater than 30 min</td>\n",
       "      <td>566</td>\n",
       "    </tr>\n",
       "    <tr>\n",
       "      <th>13</th>\n",
       "      <td>Subscriber</td>\n",
       "      <td>weekend</td>\n",
       "      <td>different station</td>\n",
       "      <td>less than or equal to 30 min</td>\n",
       "      <td>54046</td>\n",
       "    </tr>\n",
       "    <tr>\n",
       "      <th>14</th>\n",
       "      <td>Subscriber</td>\n",
       "      <td>weekend</td>\n",
       "      <td>same station</td>\n",
       "      <td>greater than 30 min</td>\n",
       "      <td>192</td>\n",
       "    </tr>\n",
       "    <tr>\n",
       "      <th>15</th>\n",
       "      <td>Subscriber</td>\n",
       "      <td>weekend</td>\n",
       "      <td>same station</td>\n",
       "      <td>less than or equal to 30 min</td>\n",
       "      <td>1698</td>\n",
       "    </tr>\n",
       "  </tbody>\n",
       "</table>\n",
       "</div>"
      ],
      "text/plain": [
       "   subscriber_type Type_of_Day      Station_Route  \\\n",
       "0         Customer     weekday  different station   \n",
       "1         Customer     weekday  different station   \n",
       "2         Customer     weekday       same station   \n",
       "3         Customer     weekday       same station   \n",
       "4         Customer     weekend  different station   \n",
       "5         Customer     weekend  different station   \n",
       "6         Customer     weekend       same station   \n",
       "7         Customer     weekend       same station   \n",
       "8       Subscriber     weekday  different station   \n",
       "9       Subscriber     weekday  different station   \n",
       "10      Subscriber     weekday       same station   \n",
       "11      Subscriber     weekday       same station   \n",
       "12      Subscriber     weekend  different station   \n",
       "13      Subscriber     weekend  different station   \n",
       "14      Subscriber     weekend       same station   \n",
       "15      Subscriber     weekend       same station   \n",
       "\n",
       "                   Trip_Duration  num_of_trips  \n",
       "0            greater than 30 min         13998  \n",
       "1   less than or equal to 30 min         55890  \n",
       "2            greater than 30 min          8148  \n",
       "3   less than or equal to 30 min          3621  \n",
       "4            greater than 30 min         12472  \n",
       "5   less than or equal to 30 min         32296  \n",
       "6            greater than 30 min          7395  \n",
       "7   less than or equal to 30 min          2989  \n",
       "8            greater than 30 min          3684  \n",
       "9   less than or equal to 30 min        778649  \n",
       "10           greater than 30 min           882  \n",
       "11  less than or equal to 30 min          7122  \n",
       "12           greater than 30 min           566  \n",
       "13  less than or equal to 30 min         54046  \n",
       "14           greater than 30 min           192  \n",
       "15  less than or equal to 30 min          1698  "
      ]
     },
     "execution_count": 20,
     "metadata": {},
     "output_type": "execute_result"
    }
   ],
   "source": [
    "subscriber_data=pd.read_csv('subscriber_data.csv')\n",
    "\n",
    "print(\"Subscriber Data\")\n",
    "subscriber_data"
   ]
  },
  {
   "cell_type": "code",
   "execution_count": 21,
   "metadata": {
    "scrolled": true
   },
   "outputs": [
    {
     "name": "stdout",
     "output_type": "stream",
     "text": [
      "86.1% subscribers use the bikeshare program, while 13.9% of customers use the bikeshare program. Subscribers are the riders that are annual or 30-day members, so it makes sense to continue to cater to these customers with an annual membership as they are the bulk of the riders. \n"
     ]
    }
   ],
   "source": [
    "print(round(subscriber_data.num_of_trips[subscriber_data.subscriber_type == 'Subscriber'].sum() / subscriber_data.num_of_trips.sum() * 100,1)\n",
    "      , \"% subscribers use the bikeshare program, while \", round(subscriber_data.num_of_trips[subscriber_data.subscriber_type == 'Customer'].sum() / subscriber_data.num_of_trips.sum() * 100,1)\n",
    "      ,\"% of customers use the bikeshare program. Subscribers are the riders that are annual or 30-day members, so it makes sense to continue to cater to these customers with an annual membership as they are the bulk of the riders. \", sep=\"\")"
   ]
  },
  {
   "cell_type": "markdown",
   "metadata": {},
   "source": [
    "#### Weekend vs. Weekday"
   ]
  },
  {
   "cell_type": "code",
   "execution_count": 22,
   "metadata": {},
   "outputs": [
    {
     "name": "stdout",
     "output_type": "stream",
     "text": [
      "88.6% of riders take trips during the week, while 11.4% of riders take trips during the weekend.\n"
     ]
    }
   ],
   "source": [
    "print(round(subscriber_data.num_of_trips[subscriber_data.Type_of_Day == 'weekday'].sum() / subscriber_data.num_of_trips.sum() * 100,1)\n",
    "      , \"% of riders take trips during the week, while \", round(subscriber_data.num_of_trips[subscriber_data.Type_of_Day == 'weekend'].sum() / subscriber_data.num_of_trips.sum() * 100,1)\n",
    "      , \"% of riders take trips during the weekend.\", sep=\"\")"
   ]
  },
  {
   "cell_type": "code",
   "execution_count": 23,
   "metadata": {},
   "outputs": [
    {
     "name": "stdout",
     "output_type": "stream",
     "text": [
      "93.3% of subscribers take bike trips during the weekdays, while 59.7% of customers take bike trips during the weekdays. All of our data so far, especially this point, does show that subscribers are using the bikeshare service for commuting.\n"
     ]
    }
   ],
   "source": [
    "print(round(subscriber_data.num_of_trips[(subscriber_data.Type_of_Day == 'weekday') & (subscriber_data.subscriber_type == 'Subscriber')] .sum() / subscriber_data.num_of_trips[subscriber_data.subscriber_type == 'Subscriber'].sum() * 100,1)\n",
    "      , \"% of subscribers take bike trips during the weekdays, while \", round(subscriber_data.num_of_trips[(subscriber_data.Type_of_Day == 'weekday') & (subscriber_data.subscriber_type == 'Customer')].sum() / subscriber_data.num_of_trips[subscriber_data.subscriber_type == 'Customer'].sum() * 100,1)\n",
    "      , \"% of customers take bike trips during the weekdays. All of our data so far, especially this point, does show that subscribers are using the bikeshare service for commuting.\", sep=\"\")"
   ]
  },
  {
   "cell_type": "code",
   "execution_count": 24,
   "metadata": {},
   "outputs": [
    {
     "name": "stdout",
     "output_type": "stream",
     "text": [
      "6.67% of subscribers take bike trips during the weekends, while 40.3% of customers take bike trips during the weekends. The fact that just under half of customers take trips during the weekends speaks to these riders being more interested in leisure outtings.\n"
     ]
    }
   ],
   "source": [
    "print(round(subscriber_data.num_of_trips[(subscriber_data.Type_of_Day == 'weekend') & (subscriber_data.subscriber_type == 'Subscriber')] .sum() / subscriber_data.num_of_trips[subscriber_data.subscriber_type == 'Subscriber'].sum() * 100,2)\n",
    "      , \"% of subscribers take bike trips during the weekends, while \", round(subscriber_data.num_of_trips[(subscriber_data.Type_of_Day == 'weekend') & (subscriber_data.subscriber_type == 'Customer')].sum() / subscriber_data.num_of_trips[subscriber_data.subscriber_type == 'Customer'].sum() * 100,1)\n",
    "      , \"% of customers take bike trips during the weekends. The fact that just under half of customers take trips during the weekends speaks to these riders being more interested in leisure outtings.\", sep=\"\")"
   ]
  },
  {
   "cell_type": "markdown",
   "metadata": {},
   "source": [
    "#### Different Station vs. Same Station"
   ]
  },
  {
   "cell_type": "code",
   "execution_count": 25,
   "metadata": {},
   "outputs": [
    {
     "name": "stdout",
     "output_type": "stream",
     "text": [
      "96.7% of riders begin and end at different stations, while 3.26% of riders complete round trip rides.\n"
     ]
    }
   ],
   "source": [
    "print(round(subscriber_data.num_of_trips[subscriber_data.Station_Route == 'different station'].sum() / subscriber_data.num_of_trips.sum() * 100,1)\n",
    "      , \"% of riders begin and end at different stations, while \", round(subscriber_data.num_of_trips[subscriber_data.Station_Route == 'same station'].sum() / subscriber_data.num_of_trips.sum() * 100,2)\n",
    "      , \"% of riders complete round trip rides.\", sep=\"\")"
   ]
  },
  {
   "cell_type": "code",
   "execution_count": 26,
   "metadata": {},
   "outputs": [
    {
     "name": "stdout",
     "output_type": "stream",
     "text": [
      "98.8% of subscribers begin and end at different stations, while 83.8% of customers begin and end at different stations. This shows that subscribers are mostly using the bikeshare service to go from point A to point B, which once again speask to commuting.\n"
     ]
    }
   ],
   "source": [
    "print(round(subscriber_data.num_of_trips[(subscriber_data.Station_Route == 'different station') & (subscriber_data.subscriber_type == 'Subscriber')] .sum() / subscriber_data.num_of_trips[subscriber_data.subscriber_type == 'Subscriber'].sum() * 100,1)\n",
    "      , \"% of subscribers begin and end at different stations, while \", round(subscriber_data.num_of_trips[(subscriber_data.Station_Route == 'different station') & (subscriber_data.subscriber_type == 'Customer')].sum() / subscriber_data.num_of_trips[subscriber_data.subscriber_type == 'Customer'].sum() * 100,1)\n",
    "      , \"% of customers begin and end at different stations. This shows that subscribers are mostly using the bikeshare service to go from point A to point B, which once again speask to commuting.\", sep=\"\")"
   ]
  },
  {
   "cell_type": "code",
   "execution_count": 27,
   "metadata": {
    "scrolled": true
   },
   "outputs": [
    {
     "name": "stdout",
     "output_type": "stream",
     "text": [
      "1.17% of subscribers complete round trip rides, while 16.2% of customers complete round trip rides. This shows again that more customers are using the service for leisure rides where they will start and end at the same station.\n"
     ]
    }
   ],
   "source": [
    "print(round(subscriber_data.num_of_trips[(subscriber_data.Station_Route == 'same station') & (subscriber_data.subscriber_type == 'Subscriber')].sum() / subscriber_data.num_of_trips[subscriber_data.subscriber_type == 'Subscriber'].sum() * 100,2)\n",
    "      , \"% of subscribers complete round trip rides, while \", round(subscriber_data.num_of_trips[(subscriber_data.Station_Route == 'same station') & (subscriber_data.subscriber_type == 'Customer')] .sum() / subscriber_data.num_of_trips[subscriber_data.subscriber_type == 'Customer'].sum() * 100,1)\n",
    "      , \"% of customers complete round trip rides. This shows again that more customers are using the service for leisure rides where they will start and end at the same station.\", sep=\"\")"
   ]
  },
  {
   "cell_type": "markdown",
   "metadata": {},
   "source": [
    "#### Trip Duration"
   ]
  },
  {
   "cell_type": "markdown",
   "metadata": {},
   "source": [
    "As one of the offer types was \"a day pass that allows unlimited 30-minute rides for 24 hours,\" I wanted to look at the timing of subscribers and customers in as many ways as I could. In addition to the analysis that was done above where I cut the data into number of trips greater than, or less than or equal to 30 minutes, I wanted to look at the overall duration. Therefore, in the histograms below, I have evaluted duration from the subscriber and customer points of view. This level of analysis would help me understand more about ridership behavior."
   ]
  },
  {
   "cell_type": "code",
   "execution_count": 28,
   "metadata": {},
   "outputs": [
    {
     "name": "stdout",
     "output_type": "stream",
     "text": [
      "Waiting on bqjob_r41126adeaad8c6d5_00000163ce42ba63_1 ... (4s) Current status: DONE   "
     ]
    }
   ],
   "source": [
    "! bq query --use_legacy_sql=FALSE --format=csv 'SELECT EXTRACT(date from start_date) as day, trip_id, subscriber_type, avg(duration_sec) as time_in_sec FROM `bigquery-public-data.san_francisco.bikeshare_trips` group by 1,2,3 order by 1 LIMIT 98348' > trip_times.csv\n"
   ]
  },
  {
   "cell_type": "code",
   "execution_count": 29,
   "metadata": {
    "scrolled": true
   },
   "outputs": [
    {
     "name": "stdout",
     "output_type": "stream",
     "text": [
      "Trips Over Time\n"
     ]
    },
    {
     "data": {
      "text/html": [
       "<div>\n",
       "<style>\n",
       "    .dataframe thead tr:only-child th {\n",
       "        text-align: right;\n",
       "    }\n",
       "\n",
       "    .dataframe thead th {\n",
       "        text-align: left;\n",
       "    }\n",
       "\n",
       "    .dataframe tbody tr th {\n",
       "        vertical-align: top;\n",
       "    }\n",
       "</style>\n",
       "<table border=\"1\" class=\"dataframe\">\n",
       "  <thead>\n",
       "    <tr style=\"text-align: right;\">\n",
       "      <th></th>\n",
       "      <th>day</th>\n",
       "      <th>trip_id</th>\n",
       "      <th>subscriber_type</th>\n",
       "      <th>time_in_sec</th>\n",
       "    </tr>\n",
       "  </thead>\n",
       "  <tbody>\n",
       "    <tr>\n",
       "      <th>0</th>\n",
       "      <td>2013-08-29</td>\n",
       "      <td>4303</td>\n",
       "      <td>Customer</td>\n",
       "      <td>1305.0</td>\n",
       "    </tr>\n",
       "    <tr>\n",
       "      <th>1</th>\n",
       "      <td>2013-08-29</td>\n",
       "      <td>4756</td>\n",
       "      <td>Subscriber</td>\n",
       "      <td>845.0</td>\n",
       "    </tr>\n",
       "    <tr>\n",
       "      <th>2</th>\n",
       "      <td>2013-08-29</td>\n",
       "      <td>4493</td>\n",
       "      <td>Subscriber</td>\n",
       "      <td>1914.0</td>\n",
       "    </tr>\n",
       "    <tr>\n",
       "      <th>3</th>\n",
       "      <td>2013-08-29</td>\n",
       "      <td>4724</td>\n",
       "      <td>Subscriber</td>\n",
       "      <td>637.0</td>\n",
       "    </tr>\n",
       "    <tr>\n",
       "      <th>4</th>\n",
       "      <td>2013-08-29</td>\n",
       "      <td>4665</td>\n",
       "      <td>Subscriber</td>\n",
       "      <td>972.0</td>\n",
       "    </tr>\n",
       "  </tbody>\n",
       "</table>\n",
       "</div>"
      ],
      "text/plain": [
       "          day  trip_id subscriber_type  time_in_sec\n",
       "0  2013-08-29     4303        Customer       1305.0\n",
       "1  2013-08-29     4756      Subscriber        845.0\n",
       "2  2013-08-29     4493      Subscriber       1914.0\n",
       "3  2013-08-29     4724      Subscriber        637.0\n",
       "4  2013-08-29     4665      Subscriber        972.0"
      ]
     },
     "execution_count": 29,
     "metadata": {},
     "output_type": "execute_result"
    }
   ],
   "source": [
    "trip_times=pd.read_csv('trip_times.csv')\n",
    "\n",
    "print(\"Trips Over Time\")\n",
    "trip_times.head()"
   ]
  },
  {
   "cell_type": "code",
   "execution_count": 30,
   "metadata": {},
   "outputs": [
    {
     "data": {
      "image/png": "[encoded data removed]",
      "text/plain": [
       "<matplotlib.figure.Figure at 0x7f5488ea9470>"
      ]
     },
     "metadata": {},
     "output_type": "display_data"
    }
   ],
   "source": [
    "trip_times[(trip_times.subscriber_type == 'Subscriber')].hist('time_in_sec', bins = 15, figsize=(10,4))\n",
    "\n",
    "plt.xlabel(\"Time Spent Riding (Took out Greater than 67 Minutes)\")\n",
    "plt.ylabel(\"Records per Bin\")\n",
    "plt.title(\"Subscriber Ridership Duration in Sec\")\n",
    "\n",
    "plt.grid(False)"
   ]
  },
  {
   "cell_type": "code",
   "execution_count": 31,
   "metadata": {},
   "outputs": [
    {
     "data": {
      "text/plain": [
       "count       59.000000\n",
       "mean       849.627119\n",
       "std       1615.472376\n",
       "min         70.000000\n",
       "25%        339.000000\n",
       "50%        530.000000\n",
       "75%        847.500000\n",
       "max      12280.000000\n",
       "Name: time_in_sec, dtype: float64"
      ]
     },
     "execution_count": 31,
     "metadata": {},
     "output_type": "execute_result"
    }
   ],
   "source": [
    "trip_times.time_in_sec[trip_times.subscriber_type == 'Subscriber'].describe()"
   ]
  },
  {
   "cell_type": "code",
   "execution_count": 32,
   "metadata": {},
   "outputs": [
    {
     "data": {
      "image/png": "[encoded data removed]",
      "text/plain": [
       "<matplotlib.figure.Figure at 0x7f5488c159b0>"
      ]
     },
     "metadata": {},
     "output_type": "display_data"
    }
   ],
   "source": [
    "trip_times[(trip_times.subscriber_type == 'Customer')].hist('time_in_sec', bins = 15, figsize=(10,4))\n",
    "\n",
    "plt.xlabel(\"Time Spent Riding\")\n",
    "plt.ylabel(\"Records per Bin\")\n",
    "plt.title(\"Subscriber Ridership Duration in Sec\")\n",
    "\n",
    "plt.grid(False)"
   ]
  },
  {
   "cell_type": "code",
   "execution_count": 33,
   "metadata": {},
   "outputs": [
    {
     "data": {
      "text/plain": [
       "count      41.000000\n",
       "mean     1620.975610\n",
       "std      1676.944341\n",
       "min       346.000000\n",
       "25%       574.000000\n",
       "50%      1030.000000\n",
       "75%      1751.000000\n",
       "max      7138.000000\n",
       "Name: time_in_sec, dtype: float64"
      ]
     },
     "execution_count": 33,
     "metadata": {},
     "output_type": "execute_result"
    }
   ],
   "source": [
    "trip_times.time_in_sec[trip_times.subscriber_type == 'Customer'].describe()"
   ]
  },
  {
   "cell_type": "markdown",
   "metadata": {},
   "source": [
    "Both of the duration histograms above show the ride durations by subscribers and customers respectively. The datasets are both skewed to the right, with a mean that is larger than the median. However, If we look at the mean and quartiles, we see that the average subscriber trip is much shorter than the average customer trip (understanding of course that both sets of data do have outliers that have not been fully evaluated). In fact, the average customer ride is 27 minutes, while the average subscriber ride is 14 minutes."
   ]
  },
  {
   "cell_type": "markdown",
   "metadata": {},
   "source": [
    "## Conclusion\n",
    "\n",
    "Overall, from a deal perspective, I would recommend that we offer a flat price for a single one-way trip and an annual membership. Of the subscribers, many seem to be using the service for commuting, so we can assume that they are using it often for shorter, purposeful trips to get from point A to point B. As overall ridership has declined a bit recently, I would recommend continuing to promote the annual membership and to do a bit of bikeshare marketing as a messaging reenforcement strategy.\n",
    "\n",
    "Of the customers, which there are far fewer of, many seem to be using the service a bit more for leisure as more of their rides happen on the weekends, are longer in duration on average, and are more likely to start and end at the same station. As the average ride is 27 minutes, unlimited 30-minute rides for 24 hours likely will not work as many customers ride for more than 30 minutes. We should be marketing to customers to try the service on a weekend afternoon to tour San Francisco, or even target tourists specifically. Therefore, I would recommend offering a single one-way trip to customers.\n",
    "\n",
    "In addition, we do see a large decline during the holiday period. I would recommend that Ford GoBike operate fewer bikes and/or use this time for annual maintenance."
   ]
  }
 ],
 "metadata": {
  "kernelspec": {
   "display_name": "Python 3",
   "language": "python",
   "name": "python3"
  },
  "language_info": {
   "codemirror_mode": {
    "name": "ipython",
    "version": 3
   },
   "file_extension": ".py",
   "mimetype": "text/x-python",
   "name": "python",
   "nbconvert_exporter": "python",
   "pygments_lexer": "ipython3",
   "version": "3.6.5"
  }
 },
 "nbformat": 4,
 "nbformat_minor": 2
}
